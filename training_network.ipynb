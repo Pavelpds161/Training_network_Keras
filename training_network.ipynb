{
  "nbformat": 4,
  "nbformat_minor": 0,
  "metadata": {
    "accelerator": "GPU",
    "colab": {
      "name": "training_network.ipynb",
      "provenance": [],
      "collapsed_sections": [],
      "machine_shape": "hm"
    },
    "kernelspec": {
      "display_name": "Python 3",
      "language": "python",
      "name": "python3"
    },
    "language_info": {
      "codemirror_mode": {
        "name": "ipython",
        "version": 3
      },
      "file_extension": ".py",
      "mimetype": "text/x-python",
      "name": "python",
      "nbconvert_exporter": "python",
      "pygments_lexer": "ipython3",
      "version": "3.7.1"
    }
  },
  "cells": [
    {
      "cell_type": "markdown",
      "metadata": {
        "colab_type": "text",
        "id": "1Q7eEm6l7cAY"
      },
      "source": [
        "# Учебно-тренировочная нейронная сеть.\n",
        "\n",
        "ЗАДАЧА - научиться по фотографии лица человека предсказывать его пол, расу и возраст.\n",
        "\n",
        "[Датасет](https://susanqq.github.io/UTKFace/), который мы будем использовать состоит из 20000 фотографий лиц людей в возрасте от 0 до 116 лет! В качестве разметки имеется пол (male/female), раса (white/black/asian/indian/other) и возраст. Классификация с настолько сильной внутриклассовой изменьчивостью (от младенцев до пожилых людей!) -- сложная задача. \n",
        "\n",
        "Мы немного упростим себе задачу и воспользуемся версией датасета, где все картинки приведены к одному размеру и лица находятся в центре изображения.\n",
        "\n",
        "Как решать такую задачу? **Transfer learning и finetuning**. Т.е. возьмем за основу сеть, обученную на большом количестве данных для другой задачи и дообучим ее для нашей задачи.\n"
      ]
    },
    {
      "cell_type": "markdown",
      "metadata": {
        "colab_type": "text",
        "id": "CFY2nYilChXj"
      },
      "source": [
        "\n",
        "Мы возьмем за основу сеть, которая была обучена на датасете [VGGFace2](http://www.robots.ox.ac.uk/~vgg/data/vgg_face2/) для классификации лиц. Он содержит 3.3 миллиона изображений с 9000 разными персоналиями.\n"
      ]
    },
    {
      "cell_type": "markdown",
      "metadata": {
        "colab_type": "text",
        "id": "-Cl_d7R_I2sV"
      },
      "source": [
        "## Загрузка обученной модели\n",
        "\n",
        "Сеть, которую мы будем дообучать мы возьмем из открытого источника: https://github.com/rcmalli/keras-vggface ."
      ]
    },
    {
      "cell_type": "code",
      "metadata": {
        "colab_type": "code",
        "id": "yPYs2yZ_J9Pr",
        "colab": {}
      },
      "source": [
        "! pip install git+https://github.com/rcmalli/keras-vggface.git"
      ],
      "execution_count": 0,
      "outputs": []
    },
    {
      "cell_type": "code",
      "metadata": {
        "colab_type": "code",
        "id": "CzhwlWcWN_oJ",
        "colab": {}
      },
      "source": [
        "%tensorflow_version 1.x\n",
        "import tensorflow as tf\n",
        "# tf.enable_eager_execution()\n",
        "import numpy as np\n",
        "import pandas as pd\n",
        "import matplotlib.pyplot as plt"
      ],
      "execution_count": 0,
      "outputs": []
    },
    {
      "cell_type": "markdown",
      "metadata": {
        "colab_type": "text",
        "id": "8HGYO3IZqIzW"
      },
      "source": [
        "Сохраним модель с помощью save_model. Она находится по адресу: https://drive.google.com/open?id=1oHJxVZCcVwp1dgcwDIZL4h97uInxOGWO . Загрузим модель:\n"
      ]
    },
    {
      "cell_type": "code",
      "metadata": {
        "colab_type": "code",
        "id": "n-M4G9owL2kl",
        "colab": {}
      },
      "source": [
        "! pip install gdown\n",
        "import gdown\n",
        "\n",
        "url = 'https://drive.google.com/uc?id=1oHJxVZCcVwp1dgcwDIZL4h97uInxOGWO'\n",
        "output = 'resnet50face.h5'\n",
        "gdown.download(url, output, quiet=False)"
      ],
      "execution_count": 0,
      "outputs": []
    },
    {
      "cell_type": "code",
      "metadata": {
        "colab_type": "code",
        "id": "U-wXDxw-MUgO",
        "colab": {}
      },
      "source": [
        "from tensorflow.keras.models import load_model\n",
        "vggface_model = load_model(\"resnet50face.h5\")"
      ],
      "execution_count": 0,
      "outputs": []
    },
    {
      "cell_type": "markdown",
      "metadata": {
        "colab_type": "text",
        "id": "lNIzy2WaRPc_"
      },
      "source": [
        "Модель загружена, а теперь посмотрим, что она из себя представляет. Это архитектура -- ResNet. На самом деле внутренности модели не очень важны для нас -- в дальнейшем мы заморозим бОльшую часть этой сети и будем работать только с последними слоями. Нам важно, что она обучена и мы имеем доступ к ее архитектуре и весам."
      ]
    },
    {
      "cell_type": "code",
      "metadata": {
        "colab_type": "code",
        "id": "0OivqjzLNUI6",
        "colab": {}
      },
      "source": [
        "vggface_model.summary() # последний слой классифицирует на 8631 классов"
      ],
      "execution_count": 0,
      "outputs": []
    },
    {
      "cell_type": "markdown",
      "metadata": {
        "colab_type": "text",
        "id": "r-Xbs3sCRZc-"
      },
      "source": [
        "Для проверки того, что помимо архитектуры мы правильно загрузили веса, проверим предсказания модели на следующем изображении: "
      ]
    },
    {
      "cell_type": "code",
      "metadata": {
        "colab_type": "code",
        "id": "Gqd3DIklNTGb",
        "colab": {}
      },
      "source": [
        "! wget https://img.joinfo.ua/i/2019/01/5c4ea940d2b08.jpg -O brad_pitt.jpg"
      ],
      "execution_count": 0,
      "outputs": []
    },
    {
      "cell_type": "markdown",
      "metadata": {
        "colab_type": "text",
        "id": "4Jz_6eEVq9BT"
      },
      "source": [
        "После загрузки запустим полный пример из репозитория:"
      ]
    },
    {
      "cell_type": "code",
      "metadata": {
        "colab_type": "code",
        "id": "jVn7Deu9N4eg",
        "colab": {}
      },
      "source": [
        "from keras_vggface import utils\n",
        "from tensorflow.keras.preprocessing import image\n",
        "\n",
        "img = image.load_img(\"brad_pitt.jpg\", target_size=(224, 224)) # модель работает с картинками размера 224 на 224\n",
        "x = image.img_to_array(img)\n",
        "x = np.expand_dims(x, axis=0)\n",
        "x = utils.preprocess_input(x, version=2) # мы используем resnet50 -- поэтому version2. Эта функция нам еще пригодится!\n",
        "\n",
        "preds = vggface_model.predict(x) # модель -- известная нам keras model, вызываем predict\n",
        "plt.title(f\"Predicted: {utils.decode_predictions(preds)[0][0]}\") # используем  decode_predictions из keras_vggface\n",
        "plt.imshow(img)"
      ],
      "execution_count": 0,
      "outputs": []
    },
    {
      "cell_type": "markdown",
      "metadata": {
        "colab_type": "text",
        "id": "VVaLen_-QvBs"
      },
      "source": [
        "## Загрузка данных\n",
        "Мы убедились, что модель загружена правильно, узнали какой препроцессинг ей необходим (utils.preprocess_input(x, version=2)) и теперь можем перейти к загрузке наших данных."
      ]
    },
    {
      "cell_type": "code",
      "metadata": {
        "colab_type": "code",
        "id": "VyNzbY4OKPVT",
        "colab": {}
      },
      "source": [
        "from pathlib import Path\n",
        "from collections import Counter"
      ],
      "execution_count": 0,
      "outputs": []
    },
    {
      "cell_type": "code",
      "metadata": {
        "colab_type": "code",
        "id": "VTaRg4FXOP9s",
        "colab": {}
      },
      "source": [
        "url = 'https://drive.google.com/uc?id=0BxYys69jI14kYVM3aVhKS1VhRUk'\n",
        "output = '/tmp/UTKFace.tar.gz'\n",
        "gdown.download(url, output, quiet=False)\n",
        "! tar -xzf /tmp/UTKFace.tar.gz -C /tmp/\n",
        "url = 'https://drive.google.com/uc?id=1mux7xiP4NP6AUUFvUW42RgSdUEQ4k5e2'\n",
        "output = 'train_val_split_utk.csv'\n",
        "gdown.download(url, output, quiet=False)"
      ],
      "execution_count": 0,
      "outputs": []
    },
    {
      "cell_type": "code",
      "metadata": {
        "colab_type": "code",
        "id": "OpMxOcUEORgZ",
        "colab": {}
      },
      "source": [
        "data_folder = Path(\"/tmp/UTKFace/\")\n",
        "filenames = list(map(lambda x: x.name, data_folder.glob('*.jpg')))\n",
        "print(len(filenames))\n",
        "print(filenames[:3]) # имя файла содержит возраст, индекс пола и расы, перечисленные через нижнее подчеркивание"
      ],
      "execution_count": 0,
      "outputs": []
    },
    {
      "cell_type": "code",
      "metadata": {
        "colab_type": "code",
        "id": "e-ke68AGOcFz",
        "colab": {}
      },
      "source": [
        "# формируем датафрейм с путями и нужными классами\n",
        "np.random.seed(10)\n",
        "np.random.shuffle(filenames)\n",
        "gender_mapping = {0: 'Male', 1: 'Female'}\n",
        "race_mapping = dict(list(enumerate(('White', 'Black', 'Asian', 'Indian', 'Others'))))\n",
        "age_labels, gender_labels, race_labels, correct_filenames = [], [], [], []\n",
        "\n",
        "for filename in filenames:\n",
        "    if len(filename.split('_')) != 4:\n",
        "        print(f\"Bad filename {filename}\")\n",
        "        continue\n",
        "\n",
        "    age, gender, race, _ = filename.split('_')\n",
        "    correct_filenames.append(filename)\n",
        "    age_labels.append(age)\n",
        "    gender_labels.append(gender)\n",
        "    race_labels.append(race)\n",
        "    \n",
        "age_labels = np.array(age_labels, dtype=np.float32)\n",
        "max_age = age_labels.max()\n",
        "data = {\"img_name\": correct_filenames, \n",
        "        \"age\": age_labels / max_age, # нормализуем возраст от 0 до 1\n",
        "        \"race\": race_labels, \n",
        "        \"gender\": gender_labels}\n",
        "df = pd.DataFrame(data)\n",
        "df.head()"
      ],
      "execution_count": 0,
      "outputs": []
    },
    {
      "cell_type": "code",
      "metadata": {
        "colab_type": "code",
        "id": "1vNxQcLCTFFI",
        "colab": {}
      },
      "source": [
        "df_split = pd.read_csv(\"train_val_split_utk.csv\", index_col=0).set_index(\"img_name\")\n",
        "df_split.head()\n",
        "df = df.set_index(\"img_name\").join(df_split).reset_index()\n",
        "df_train = df[df[\"is_train\"] == 1]\n",
        "df_val = df[df[\"is_train\"] != 1]\n",
        "print(len(df_val), len(df_train))"
      ],
      "execution_count": 0,
      "outputs": []
    },
    {
      "cell_type": "code",
      "metadata": {
        "colab_type": "code",
        "id": "mPG-LTGulr0G",
        "colab": {}
      },
      "source": [
        "df_split.head()"
      ],
      "execution_count": 0,
      "outputs": []
    },
    {
      "cell_type": "code",
      "metadata": {
        "colab_type": "code",
        "id": "xsAwWWKGmU5C",
        "colab": {}
      },
      "source": [
        "df_train.head()"
      ],
      "execution_count": 0,
      "outputs": []
    },
    {
      "cell_type": "code",
      "metadata": {
        "colab_type": "code",
        "id": "6jNttBNEmaJ5",
        "colab": {}
      },
      "source": [
        "df_val.head()"
      ],
      "execution_count": 0,
      "outputs": []
    },
    {
      "cell_type": "code",
      "metadata": {
        "colab_type": "code",
        "id": "SdRRYLkHSGdG",
        "colab": {}
      },
      "source": [
        "def decode_labels(race_id, gender_id, age):\n",
        "    return race_mapping[int(race_id)], gender_mapping[int(gender_id)], int(age*max_age)\n",
        "def show_face(image, race_id, gender_id, age):\n",
        "    plt.imshow(image)\n",
        "    race, gender, age = decode_labels(race_id, gender_id, age)\n",
        "    plt.title(f\"Gender: {gender}, Race: {race}, Age: {age}\")"
      ],
      "execution_count": 0,
      "outputs": []
    },
    {
      "cell_type": "markdown",
      "metadata": {
        "colab_type": "text",
        "id": "sXOQD21ESwg3"
      },
      "source": [
        "Убедимся, что метки классов корректны:"
      ]
    },
    {
      "cell_type": "code",
      "metadata": {
        "colab_type": "code",
        "id": "LSEvRFaTP9as",
        "colab": {}
      },
      "source": [
        "row = df.iloc[np.random.randint(len(df))]\n",
        "img = plt.imread(str(data_folder / row[\"img_name\"]))\n",
        "show_face(img, row[\"race\"], row[\"gender\"], row[\"age\"])"
      ],
      "execution_count": 0,
      "outputs": []
    },
    {
      "cell_type": "markdown",
      "metadata": {
        "colab_type": "text",
        "id": "mjr2_r3DUOoT"
      },
      "source": [
        "Посмотрим на их распределение:"
      ]
    },
    {
      "cell_type": "code",
      "metadata": {
        "colab_type": "code",
        "id": "DD8nlX6UQE8n",
        "colab": {}
      },
      "source": [
        "races_verbose = [race_mapping[int(race)] for race in df[\"race\"]]\n",
        "genders_verbose = [gender_mapping[int(gender)] for gender in df[\"gender\"]]\n",
        "\n",
        "print(Counter(races_verbose))\n",
        "print(Counter(genders_verbose))\n",
        "_ = plt.hist(df[\"age\"]*max_age)\n",
        "_ = plt.xlabel(\"Age\")"
      ],
      "execution_count": 0,
      "outputs": []
    },
    {
      "cell_type": "markdown",
      "metadata": {
        "colab_type": "text",
        "id": "h46wh_eCUj9V"
      },
      "source": [
        "## Создание генератора данных для модели предсказания пола.\n",
        "Предподготовка закончена. Реализуем генератор данных необходимый для последущего обучения модели. `tensorflow.keras.preprocessing.image.ImageDataGenerator`"
      ]
    },
    {
      "cell_type": "markdown",
      "metadata": {
        "colab_type": "text",
        "id": "Sps1d5WtkrI5"
      },
      "source": [
        "Как мы знаем, перед применением обученных сетей нужно знать какой препроцессинг они проводят с данными. Т.к. эта модель не часть Keras, мы должны ответить на этот вопрос сами с помощью исходников автора этой сети. К счастью, он приводит пример использования на главной странице репозитория. Видно, что он использует функцию preprocess_input из utils. Значит ей мы и должны воспользоваться!"
      ]
    },
    {
      "cell_type": "code",
      "metadata": {
        "colab_type": "code",
        "id": "l4FNfP9EXtGt",
        "colab": {}
      },
      "source": [
        "from tensorflow.keras.preprocessing.image import ImageDataGenerator\n",
        "\n",
        "def preprocess_input_facenet(image):\n",
        "    \"\"\"\n",
        "    image -- тензор размера (1, H, W, 3)\n",
        "    \n",
        "    return: картинка, с примененным preprocess_input(..., version=2) из keras_vggface (см пример с Бредом Питом)\n",
        "    \"\"\"\n",
        "\n",
        "    x = np.expand_dims(image, axis=0)\n",
        "    x = utils.preprocess_input(x, version=2)\n",
        "\n",
        "    assert x.shape == (1, 224, 224, 3), 'Wrong preprocessed image shape!'\n",
        "    return x\n",
        "\n",
        "# image_gen должен содержать ImageDataGenerator с правильной preprocessing_function\n",
        "\n",
        "image_gen = ImageDataGenerator(preprocessing_function=preprocess_input_facenet)"
      ],
      "execution_count": 0,
      "outputs": []
    },
    {
      "cell_type": "markdown",
      "metadata": {
        "colab_type": "text",
        "id": "bn-CD7GSZbD0"
      },
      "source": [
        "Для генерации картинок раньше мы использовали `image_gen.flow_from_folder`. Но для этого данные должны быть расположены на диске с определенной структурой папок, что в данном случае не очень удобно. Поэтому мы должны воспользоваться более гибким `image_gen.flow_from_dataframe`, который позволяет генерировать данные с нужными классами используя датафрейм.\n",
        "\n",
        "**Документация по [ссылке](https://keras.io/preprocessing/image/) (раздел flow_from_dataframe), создадим train_generator и val_generator для df_train и df_val соответственно.**\n",
        "*  Генератор должен возвращать картинку и ее класс (male/female)\n",
        "*  class_mode \"binary\", directory=str(data_folder)\n",
        "*  batch_size, image_size указаны ниже\n",
        "*  train_generator должен перемешивать данные, а val_generator -- не должен\n",
        "*  После выполнения клетки ниже мы увидим текст: \n",
        "\n",
        "*Found 18946 validated image filenames belonging to 2 classes.\n",
        "Found 4759 validated image filenames belonging to 2 classes.*\n",
        "\n",
        "\n"
      ]
    },
    {
      "cell_type": "code",
      "metadata": {
        "colab_type": "code",
        "id": "6HJbXhapTtMl",
        "colab": {}
      },
      "source": [
        "BATCH_SIZE = 128\n",
        "IMAGE_SIZE = 224\n",
        "\n",
        "# train_generator = image_gen.flow_from_dataframe( ... ), \n",
        "# val_generator = image_gen.flow_from_dataframe( ... )\n",
        "\n",
        "train_generator = image_gen.flow_from_dataframe(df_train, \n",
        "                                                directory=str(data_folder), \n",
        "                                                x_col='img_name', \n",
        "                                                y_col='gender', \n",
        "                                                batch_size=BATCH_SIZE,\n",
        "                                                shuffle=True,\n",
        "                                                target_size=(IMAGE_SIZE, IMAGE_SIZE),\n",
        "                                                class_mode='binary')\n",
        "\n",
        "val_generator = image_gen.flow_from_dataframe(df_val, \n",
        "                                              directory=str(data_folder), \n",
        "                                              x_col='img_name', \n",
        "                                              y_col='gender',\n",
        "                                              batch_size=BATCH_SIZE, \n",
        "                                              shuffle=False, \n",
        "                                              target_size=(IMAGE_SIZE, IMAGE_SIZE), \n",
        "                                              class_mode='binary')"
      ],
      "execution_count": 0,
      "outputs": []
    },
    {
      "cell_type": "code",
      "metadata": {
        "colab_type": "code",
        "id": "4D5zNA7Pcla3",
        "colab": {}
      },
      "source": [
        "sample_images, sample_labels = next(val_generator)\n",
        "assert sample_images.shape == (BATCH_SIZE, IMAGE_SIZE, IMAGE_SIZE, 3), \"Неправильный размер батча\"\n",
        "assert sample_labels.shape == (BATCH_SIZE,), \"Неправильный размер меток класса\"\n",
        "assert list(sorted(np.unique(sample_labels))) == [0., 1.], \"Ожидаемые классы 0 и 1\"\n",
        "print(\"Simple tests passed\")"
      ],
      "execution_count": 0,
      "outputs": []
    },
    {
      "cell_type": "markdown",
      "metadata": {
        "colab_type": "text",
        "id": "yZmQ7dHThBE0"
      },
      "source": [
        "Попробуем отобразить картинку и ее лейбл для проверки генерации:"
      ]
    },
    {
      "cell_type": "code",
      "metadata": {
        "colab_type": "code",
        "id": "t-Qc5X-Mgjfq",
        "colab": {}
      },
      "source": [
        "plt.imshow(sample_images[100])\n",
        "print(gender_mapping[int(sample_labels[100])])\n",
        "# мы получим очень странное изображение и это нормально. \n",
        "# matplotlib ожидает картинку с интесивностями от 0 до 1 если она типа float и от 0 до 255 если int."
      ],
      "execution_count": 0,
      "outputs": []
    },
    {
      "cell_type": "code",
      "metadata": {
        "colab_type": "code",
        "id": "ibfbuDm8ho1s",
        "colab": {}
      },
      "source": [
        "print(sample_images[100].max(), sample_images[100].min()) # можно увидеть что значения яркостей типа float и в т.ч. отрицательные"
      ],
      "execution_count": 0,
      "outputs": []
    },
    {
      "cell_type": "markdown",
      "metadata": {
        "colab_type": "text",
        "id": "hzP-IoCBiFLQ"
      },
      "source": [
        "**Реализуем функцию `deprocess_image`, которая преобразует картинку используемую keras_vggface обратно к изображению, которое можно визуализировать с помощью `matplotlib`.**\n",
        "*  нам понадобится https://github.com/rcmalli/keras-vggface/blob/master/keras_vggface/utils.py\n",
        "*  необходимо проделать операции preprocess_input в обратном порядке\n",
        "*  наш случай: version=2, format=\"channels_last\""
      ]
    },
    {
      "cell_type": "code",
      "metadata": {
        "colab_type": "code",
        "id": "VJW9wJMPivxY",
        "colab": {}
      },
      "source": [
        "def deprocess_image(vggface_image):\n",
        "    \"\"\"\n",
        "    vggface_image -- (H, W, 3) картинка после препроцессинга. \n",
        "    содержит отрицательные значения и некорректно отображается matplotlib\n",
        "\n",
        "    return: корректно отображаемая картинка типа np.uint8(!!). \n",
        "\n",
        "    ! работаем с копией картинки (image = np.copy(vggface_image)) !\n",
        "    \"\"\"\n",
        "    \n",
        "    image = np.copy(vggface_image) \n",
        "\n",
        "    image[..., 0] += 91.4953\n",
        "    image[..., 1] += 103.8827\n",
        "    image[..., 2] += 131.0912\n",
        "    image = image[..., ::-1]\n",
        "\n",
        "    return np.uint8(image)\n",
        "\n",
        "# теперь картинка должна отображаться корректно\n",
        "plt.imshow(deprocess_image(sample_images[5]))\n",
        "print(gender_mapping[int(sample_labels[5])])"
      ],
      "execution_count": 0,
      "outputs": []
    },
    {
      "cell_type": "markdown",
      "metadata": {
        "colab_type": "text",
        "id": "tLx90e-tlD-8"
      },
      "source": [
        "### Обучение модели предсказания пола\n",
        "\n",
        "Мы обучим модель предсказания пола с точностью более 90% на валидационном сете. \n",
        "\n",
        "*   Возьмем за основу 'base_model' (определена ниже)\n",
        "*   Мы сами решаем сколько слоев замораживать и сколько полносвязанных слоев использовать. \n",
        "*   Используем чекпоинты, чтобы не потерять веса лучшей модели. Они должны быть сохранены с именем \"model_gender/checkpoint_best.h5\"\n",
        "*   В model.fit(...) используем steps_per_epoch=25, для того чтобы проверка на валидации происходила чаще и мы могли более точно отслеживать прогресс. "
      ]
    },
    {
      "cell_type": "code",
      "metadata": {
        "colab_type": "code",
        "id": "_COT9cVVlpOR",
        "colab": {}
      },
      "source": [
        "# для начала \"отрежем\" от vggface_model последний слой классификатора \n",
        "# теперь для картинки base_model предсказывает 2048-мерный вектор признаков.\n",
        "\n",
        "base_model = tf.keras.Model([vggface_model.input], vggface_model.get_layer(\"flatten_1\").output)\n",
        "base_model.summary()"
      ],
      "execution_count": 0,
      "outputs": []
    },
    {
      "cell_type": "code",
      "metadata": {
        "colab_type": "code",
        "id": "k7CR1aonnQEh",
        "colab": {}
      },
      "source": [
        "!pip install livelossplot\n",
        "from livelossplot.tf_keras import PlotLossesCallback"
      ],
      "execution_count": 0,
      "outputs": []
    },
    {
      "cell_type": "code",
      "metadata": {
        "colab_type": "code",
        "id": "drjeYUOT8VjB",
        "colab": {}
      },
      "source": [
        "from google.colab import drive\n",
        "from pathlib import Path\n",
        "\n",
        "# прикрепим гугл диск к виртуальной машине\n",
        "drive.mount('/content/drive/')"
      ],
      "execution_count": 0,
      "outputs": []
    },
    {
      "cell_type": "code",
      "metadata": {
        "colab_type": "code",
        "id": "JOeurHvLqys-",
        "colab": {}
      },
      "source": [
        "# следующие преобразования \n",
        "path = Path(\"/content/drive/My Drive/model_gender\")\n",
        "path.mkdir(exist_ok=True, parents=True) \n",
        "cpt_filename = \"checkpoint_best.h5\"  \n",
        "cpt_gender =str(path / cpt_filename)"
      ],
      "execution_count": 0,
      "outputs": []
    },
    {
      "cell_type": "code",
      "metadata": {
        "colab_type": "code",
        "id": "R-VwdZg7qzBf",
        "colab": {}
      },
      "source": [
        "# определяем чекпоинт \n",
        "checkpoint = tf.keras.callbacks.ModelCheckpoint(cpt_gender, \n",
        "                                                monitor='val_acc', \n",
        "                                                verbose=1, \n",
        "                                                save_best_only=True, \n",
        "                                                mode='max')"
      ],
      "execution_count": 0,
      "outputs": []
    },
    {
      "cell_type": "code",
      "metadata": {
        "colab_type": "code",
        "id": "F3nFF4olwhFj",
        "colab": {}
      },
      "source": [
        "# Обучение модели предсказания пола\n",
        "\n",
        "base_model.trainable = False # замораживаем всю базовую модель\n",
        "\n",
        "model = tf.keras.Sequential([\n",
        "  base_model,\n",
        "  tf.keras.layers.Dense(1, activation='sigmoid')\n",
        "])\n",
        "\n",
        "model.compile(optimizer=tf.keras.optimizers.Adam(lr=0.0001),\n",
        "              loss='binary_crossentropy',\n",
        "              metrics=['accuracy'])\n",
        "\n",
        "model.summary()"
      ],
      "execution_count": 0,
      "outputs": []
    },
    {
      "cell_type": "code",
      "metadata": {
        "colab_type": "code",
        "id": "9kw7rt5Zsvhd",
        "colab": {}
      },
      "source": [
        "EPOCHS = 15\n",
        "history = model.fit_generator(train_generator, steps_per_epoch=25, \n",
        "                              epochs=EPOCHS, \n",
        "                              validation_data=val_generator, \n",
        "                              callbacks=[PlotLossesCallback(), checkpoint])"
      ],
      "execution_count": 0,
      "outputs": []
    },
    {
      "cell_type": "code",
      "metadata": {
        "colab_type": "code",
        "id": "lHiktWxfuO3j",
        "colab": {}
      },
      "source": [
        "# попробуем улучшить \n",
        "base_model.trainable = True\n",
        "print(\"Количество слоев в базовой модели: \", len(base_model.layers))"
      ],
      "execution_count": 0,
      "outputs": []
    },
    {
      "cell_type": "code",
      "metadata": {
        "colab_type": "code",
        "id": "P-NLDhkEFoB7",
        "colab": {}
      },
      "source": [
        "fine_tune_at = 160\n",
        "# все слои до -- заморозим\n",
        "for layer in base_model.layers[:fine_tune_at]:\n",
        "    layer.trainable =  False\n",
        "\n",
        "model.compile(optimizer=tf.keras.optimizers.Adam(lr=1e-5),\n",
        "              loss='binary_crossentropy',\n",
        "              metrics=['accuracy'])\n",
        "\n",
        "model.summary()"
      ],
      "execution_count": 0,
      "outputs": []
    },
    {
      "cell_type": "code",
      "metadata": {
        "colab_type": "code",
        "id": "yquG9iRHFoRB",
        "colab": {}
      },
      "source": [
        "EPOCHS = 10\n",
        "history = model.fit_generator(train_generator, steps_per_epoch=25, \n",
        "                              epochs=EPOCHS, \n",
        "                              validation_data=val_generator, \n",
        "                              callbacks=[PlotLossesCallback(), checkpoint])"
      ],
      "execution_count": 0,
      "outputs": []
    },
    {
      "cell_type": "code",
      "metadata": {
        "colab_type": "code",
        "id": "P6wgj89YswrJ",
        "colab": {}
      },
      "source": [
        "model_gender = load_model(cpt_gender)\n",
        "\n",
        "loss, acc = model_gender.evaluate(val_generator)\n",
        "if acc < 0.9:\n",
        "    print(\"Please, try harder!\")\n",
        "else:\n",
        "    if acc >= 0.94:\n",
        "        print(\"Well done!\")\n",
        "    else:\n",
        "        print(\"Very good! Can you improve accuracy?\")"
      ],
      "execution_count": 0,
      "outputs": []
    },
    {
      "cell_type": "code",
      "metadata": {
        "cellView": "both",
        "colab_type": "code",
        "id": "a2GiSNJ79NsC",
        "colab": {}
      },
      "source": [
        "#@title (вспомогательный код, выполните клетку)\n",
        "def show_faces(images, real_race=None, real_gender=None, real_age=None, \n",
        "               predicted_race=None, predicted_gender=None, predicted_age=None):\n",
        "    plt.figure(figsize=(10,10))\n",
        "    labels = {\"Gender\": [predicted_gender, real_gender],\n",
        "                  \"Race\": [predicted_race, real_race],\n",
        "                  \"Age\": [predicted_age, real_age]}\n",
        "    for i in range(16):\n",
        "        plt.subplot(4,4, i+1)\n",
        "        plt.xticks([])\n",
        "        plt.yticks([])\n",
        "        plt.grid(False)\n",
        "        plt.imshow(deprocess_image(images[i]))\n",
        "        real_str = \"Real:\"\n",
        "        pred_str = \"Pred:\"\n",
        "        correct = True\n",
        "        for name, (predicted, real) in labels.items():\n",
        "            if predicted is None:\n",
        "                continue\n",
        "            if name == \"Age\":\n",
        "                real_age = int(real[i]*int(max_age))\n",
        "                predicted_age = int(predicted[i]*max_age)\n",
        "                real_str += f\"{real_age}\"\n",
        "                pred_str += f\"{predicted_age}\"\n",
        "                if np.abs(predicted_age - real_age) > 6:\n",
        "                    correct = False\n",
        "\n",
        "            elif name == \"Gender\":\n",
        "                real_gender = int(real[i])\n",
        "                predicted_gender = int(predicted[i] > 0.5)\n",
        "                real_str += f\"{gender_mapping[real_gender]}, \"\n",
        "                pred_str += f\"{gender_mapping[predicted_gender]}, \"\n",
        "                if real_gender != predicted_gender:\n",
        "                    correct = False\n",
        "            elif name == \"Race\":\n",
        "                real_race = int(real[i])\n",
        "                predicted_race = np.argmax(predicted[i])\n",
        "                real_str += f\"{race_mapping[real_race]}, \"\n",
        "                pred_str += f\"{race_mapping[predicted_race]}, \"\n",
        "                if real_race != predicted_race:\n",
        "                    correct = False\n",
        "                \n",
        "        title_obj = plt.title(f\"{real_str}\\n{pred_str}\")\n",
        "            \n",
        "        plt.subplots_adjust(wspace=0.4)\n",
        "        if not correct:\n",
        "            plt.setp(title_obj, color='r')\n",
        "        "
      ],
      "execution_count": 0,
      "outputs": []
    },
    {
      "cell_type": "code",
      "metadata": {
        "colab_type": "code",
        "id": "uqk_S3DJ9l12",
        "colab": {}
      },
      "source": [
        "sample_validation_images, sample_validation_labels = next(val_generator)\n",
        "predicted = model_gender.predict(sample_validation_images)\n",
        "show_faces(sample_validation_images, real_gender=sample_validation_labels, predicted_gender=predicted)"
      ],
      "execution_count": 0,
      "outputs": []
    },
    {
      "cell_type": "markdown",
      "metadata": {
        "colab_type": "text",
        "id": "faClZzzS8pM8"
      },
      "source": [
        "### Обучение модели предсказания расы\n",
        "\n",
        "Мы обучим модель предсказания расы с точностью более 80% на валидационном сете. \n",
        "\n",
        "*   Используя код аналогичный тому, что выше, реализуем модель предсказания расы\n",
        "*   Для начала определим генератор данных\n",
        "    *  нужно указать class_mode=\"sparse\" и изменить \"y_col\"\n",
        "*   Используем чекпоинты, чтобы не потерять веса лучшей модели. Они должны быть сохранены с именем \"model_race/checkpoint_best.h5\""
      ]
    },
    {
      "cell_type": "code",
      "metadata": {
        "colab_type": "code",
        "id": "FPvmQ10agqV-",
        "colab": {}
      },
      "source": [
        "# генераторы данных модели предсказания рас \n",
        "train_gen_race = image_gen.flow_from_dataframe(df_train, \n",
        "                                               directory=str(data_folder), \n",
        "                                               x_col='img_name', \n",
        "                                               y_col='race', \n",
        "                                               batch_size=BATCH_SIZE,\n",
        "                                               shuffle=True,\n",
        "                                               target_size=(IMAGE_SIZE, IMAGE_SIZE),\n",
        "                                               class_mode='sparse')\n",
        "\n",
        "val_gen_race = image_gen.flow_from_dataframe(df_val, \n",
        "                                             directory=str(data_folder), \n",
        "                                             x_col='img_name', \n",
        "                                             y_col='race',\n",
        "                                             batch_size=BATCH_SIZE, \n",
        "                                             shuffle=False, \n",
        "                                             target_size=(IMAGE_SIZE, IMAGE_SIZE), \n",
        "                                             class_mode='sparse')"
      ],
      "execution_count": 0,
      "outputs": []
    },
    {
      "cell_type": "code",
      "metadata": {
        "colab_type": "code",
        "id": "trZSm5CcIIoS",
        "colab": {}
      },
      "source": [
        "# vggface_model = load_model(\"resnet50face.h5\")\n",
        "base_model = tf.keras.Model([vggface_model.input], \n",
        "                            vggface_model.get_layer(\"flatten_1\").output)"
      ],
      "execution_count": 0,
      "outputs": []
    },
    {
      "cell_type": "code",
      "metadata": {
        "colab_type": "code",
        "id": "U9k99nlL8sO6",
        "colab": {}
      },
      "source": [
        "# преобразования \n",
        "path = Path(\"/content/drive/My Drive/model_race\")\n",
        "path.mkdir(exist_ok=True, parents=True)\n",
        "cpt_filename = \"checkpoint_best.h5\"  \n",
        "cpt_race =str(path / cpt_filename)"
      ],
      "execution_count": 0,
      "outputs": []
    },
    {
      "cell_type": "code",
      "metadata": {
        "colab_type": "code",
        "id": "1pDZnvcgN_m-",
        "colab": {}
      },
      "source": [
        "# определяем чекпоинт \n",
        "checkpoint_2 = tf.keras.callbacks.ModelCheckpoint(cpt_race, \n",
        "                                                  monitor='val_acc', \n",
        "                                                  verbose=1, \n",
        "                                                  save_best_only=True, \n",
        "                                                  mode='max')"
      ],
      "execution_count": 0,
      "outputs": []
    },
    {
      "cell_type": "code",
      "metadata": {
        "colab_type": "code",
        "id": "vmSRMfOVyCSj",
        "colab": {}
      },
      "source": [
        "# Обучение модели предсказания расы\n",
        "\n",
        "base_model.trainable = False # замораживаем всю базовую модель\n",
        "\n",
        "model = tf.keras.Sequential([\n",
        "  base_model,\n",
        "  tf.keras.layers.Dense(5, activation='softmax')\n",
        "])\n",
        "\n",
        "model.compile(optimizer=tf.keras.optimizers.Adam(lr=0.0001),\n",
        "              loss=\"sparse_categorical_crossentropy\", \n",
        "              metrics=['accuracy'])\n",
        "\n",
        "model.summary()"
      ],
      "execution_count": 0,
      "outputs": []
    },
    {
      "cell_type": "code",
      "metadata": {
        "colab_type": "code",
        "id": "LZ0YySBCyCe7",
        "colab": {}
      },
      "source": [
        "EPOCHS = 15 \n",
        "history = model.fit_generator(train_gen_race, steps_per_epoch=25, \n",
        "                              epochs=EPOCHS, \n",
        "                              validation_data=val_gen_race, \n",
        "                              callbacks=[PlotLossesCallback(), checkpoint_2])"
      ],
      "execution_count": 0,
      "outputs": []
    },
    {
      "cell_type": "code",
      "metadata": {
        "colab_type": "code",
        "id": "5R3R6ZP0yCqj",
        "colab": {}
      },
      "source": [
        "# попробуем улучшить \n",
        "base_model.trainable = True\n",
        "print(\"Количество слоев в базовой модели: \", len(base_model.layers))"
      ],
      "execution_count": 0,
      "outputs": []
    },
    {
      "cell_type": "code",
      "metadata": {
        "colab_type": "code",
        "id": "UM6VDjQLOBZz",
        "colab": {}
      },
      "source": [
        "fine_tune_at = 160\n",
        "# все слои до -- заморозим\n",
        "for layer in base_model.layers[:fine_tune_at]:\n",
        "    layer.trainable =  False\n",
        "\n",
        "model.compile(optimizer=tf.keras.optimizers.Adam(lr=1e-5),\n",
        "              loss=\"sparse_categorical_crossentropy\", \n",
        "              metrics=['accuracy'])\n",
        "\n",
        "model.summary()"
      ],
      "execution_count": 0,
      "outputs": []
    },
    {
      "cell_type": "code",
      "metadata": {
        "colab_type": "code",
        "id": "6xfTWIe3OBi7",
        "colab": {}
      },
      "source": [
        "EPOCHS = 10 \n",
        "history = model.fit_generator(train_gen_race, steps_per_epoch=25, \n",
        "                              epochs=EPOCHS, \n",
        "                              validation_data=val_gen_race, \n",
        "                              callbacks=[PlotLossesCallback(), checkpoint_2])"
      ],
      "execution_count": 0,
      "outputs": []
    },
    {
      "cell_type": "code",
      "metadata": {
        "colab_type": "code",
        "id": "X2p_zB-9_cA7",
        "colab": {}
      },
      "source": [
        "model_race = load_model(cpt_race)\n",
        "loss, acc = model_race.evaluate(val_gen_race)\n",
        "if acc < 0.8:\n",
        "    print(\"Please, try harder!\")\n",
        "else:\n",
        "    if acc >= 0.85:\n",
        "        print(\"Well done!\")\n",
        "    else:\n",
        "        print(\"Very good! Can you improve accuracy?\")"
      ],
      "execution_count": 0,
      "outputs": []
    },
    {
      "cell_type": "code",
      "metadata": {
        "colab_type": "code",
        "id": "-gS1MkWnGYO-",
        "colab": {}
      },
      "source": [
        "sample_validation_images, sample_validation_labels = next(val_gen_race)\n",
        "predicted = model_race.predict(sample_validation_images)\n",
        "show_faces(sample_validation_images, real_race=sample_validation_labels, predicted_race=predicted)"
      ],
      "execution_count": 0,
      "outputs": []
    },
    {
      "cell_type": "markdown",
      "metadata": {
        "colab_type": "text",
        "id": "1gEeKMNfNZmr"
      },
      "source": [
        "## Multitask learning\n",
        "\n",
        "Мы могли бы обучить регрессор возраста по картинке, используя аналогичный уже написаному код. Но мы пойдем по другому пути. \n",
        "\n",
        "Если на каждый атрибут (возраст, раса, пол) создавать одну модель, то таких моделей получится 3. Очевидно, что для предсказания на новой картинке необходимо будет произвести инференс трех сетей. Это может быть ресурсо-затратно и сложнее в поддержке. \n",
        "\n",
        "Какой же есть еще подход? Он называется Multitask learning. Его идея в том, чтобы обучать одну модель для решения сразу нескольких задач! Гибкость нейронных сетей позволяет это сделать достаточно логичным образом. Необходимо вместо одной \"головы\" для предсказания сделать несколько. Таким образом в нашей задаче одна будет отвечать за классификацию пола (1 выход, вероятность), вторая -- за классификацию расы (5 выходов, вероятности) и третья -- за предсказания возраста (1 выход, число)."
      ]
    },
    {
      "cell_type": "markdown",
      "metadata": {
        "colab_type": "text",
        "id": "wWS_ilKyv1jr"
      },
      "source": [
        "**Реализуем модель сети с тремя \"головами\".**\n",
        "\n",
        "*    Нам нужно вспомнить что такое Functional API для определения моделей, потому что необходимо определить архитектуру с тремя выходами. С помощью Sequential API этого сделать нельзя.\n",
        "*    За основу возьмем base_model (определена ниже), добавим к ее выходу 1-2 полносвязных слоя (количество нейронов определим самостоятельно)\n",
        "*    К последнему слою добавим три паралельных выхода: два с одним нейроном и один с пятью\n",
        "*    При определении выходных слоев надо указать Dense(..., name=\"race\"/\"age\"/\"gender\" )\n",
        "*    !Правильные активации! Возраст у нас нормирован (от 0 до 1). \n",
        "*    Порядок выходов модели: `outputs=[gender_output, race_output, age_output]`\n",
        "*    Точность предсказания пола должна быть > 90%, расы > 80% а MAE для возраста < 0.09."
      ]
    },
    {
      "cell_type": "code",
      "metadata": {
        "colab_type": "code",
        "id": "G7lDulbxAEmw",
        "colab": {}
      },
      "source": [
        "# vggface_model = load_model(\"resnet50face.h5\")\n",
        "base_model = tf.keras.Model([vggface_model.input], vggface_model.get_layer(\"flatten_1\").output)\n",
        "base_model.trainable = False"
      ],
      "execution_count": 0,
      "outputs": []
    },
    {
      "cell_type": "code",
      "metadata": {
        "colab_type": "code",
        "id": "M8ee2OtYN8vS",
        "colab": {}
      },
      "source": [
        "from tensorflow.keras.layers import Input\n",
        "from tensorflow.keras.utils import plot_model\n",
        "from tensorflow.keras import layers\n",
        "from tensorflow import keras\n",
        "from keras import regularizers"
      ],
      "execution_count": 0,
      "outputs": []
    },
    {
      "cell_type": "code",
      "metadata": {
        "colab_type": "code",
        "id": "fsiUoX9F-tTC",
        "colab": {}
      },
      "source": [
        "input_layer = Input(shape=(IMAGE_SIZE, IMAGE_SIZE, 3))\n",
        "\n",
        "# переменная model должна содержать модель для дальнейшего обучения \n",
        "base_l = base_model(input_layer)\n",
        "x = layers.Dense(2048, activation='relu', \n",
        "                 kernel_regularizer=regularizers.l2(0.001), \n",
        "                 activity_regularizer=regularizers.l1(0.01), \n",
        "                 name='dense_1')(base_l)\n",
        "\n",
        "gender_output = layers.Dense(1, activation = 'sigmoid', name = 'gender')(x)\n",
        "race_output = layers.Dense(5, activation = 'softmax', name = 'race')(x)\n",
        "age_output = layers.Dense(1, activation = 'relu', name = 'age')(x)\n",
        "\n",
        "model = keras.Model(inputs=input_layer, \n",
        "                    outputs=[gender_output, race_output, age_output])\n",
        "\n",
        "model.summary()\n",
        "plot_model(model)"
      ],
      "execution_count": 0,
      "outputs": []
    },
    {
      "cell_type": "code",
      "metadata": {
        "colab_type": "code",
        "id": "cPGCrARpAc6D",
        "colab": {}
      },
      "source": [
        "prediction = model(np.zeros((6, IMAGE_SIZE, IMAGE_SIZE, 3), dtype=np.float32))\n",
        "assert len(prediction) == 3, \"Модель должна возвращать три тензора\"\n",
        "assert prediction[0].shape == (6, 1), f\"Неправильный размер выхода gender: {prediction[0].shape}\"\n",
        "assert prediction[1].shape == (6, 5), f\"Неправильный размер выхода race: {prediction[1].shape}\"\n",
        "assert prediction[2].shape == (6, 1), f\"Неправильный размер выхода age: {prediction[2].shape}\"\n",
        "print(\"Shape tests passed\")"
      ],
      "execution_count": 0,
      "outputs": []
    },
    {
      "cell_type": "markdown",
      "metadata": {
        "colab_type": "text",
        "id": "qcLlRxg8hOSa"
      },
      "source": [
        "Необходимые генераторы данных. Обратим внимание на y_col и class_mode."
      ]
    },
    {
      "cell_type": "code",
      "metadata": {
        "colab_type": "code",
        "id": "u8CqDcVmLQkP",
        "colab": {}
      },
      "source": [
        "train_generator = image_gen.flow_from_dataframe(\n",
        "        dataframe=df_train,\n",
        "        class_mode=\"other\",\n",
        "        x_col=\"img_name\", y_col=[\"gender\", \"race\", \"age\"], # нас интересуют все три столбца\n",
        "        directory=str(data_folder),\n",
        "        target_size=(IMAGE_SIZE, IMAGE_SIZE),\n",
        "        batch_size=BATCH_SIZE,\n",
        "        shuffle=True)\n",
        "\n",
        "val_generator = image_gen.flow_from_dataframe(\n",
        "        dataframe=df_val,\n",
        "        class_mode=\"other\",\n",
        "        x_col=\"img_name\", \n",
        "        y_col=[\"gender\", \"race\", \"age\"], \n",
        "        directory=str(data_folder),\n",
        "        target_size=(IMAGE_SIZE, IMAGE_SIZE),\n",
        "        batch_size=BATCH_SIZE,\n",
        "        shuffle=True)\n",
        "\n",
        "def split_outputs(generator):\n",
        "    \"\"\"\n",
        "    Вспомогательная функция, которая модернизирует генераторы картинок, чтобы их\n",
        "    можно было использовать для Мultitask\n",
        "    image_gen.flow_from_dataframe возвращает на каждой итерации батч:\n",
        "    ((N, H, W, 3), (N, 3)) -- N картинок и N троек меток (для трех \"задач\")\n",
        "    model.fit(..) ожидает генератор в формате:\n",
        "    ((N, H, W, 3), [(N, 1), (N, 1), (N, 1)])\n",
        "\n",
        "    Для такого превращения и нужна эта функция.\n",
        "\n",
        "    \"\"\"\n",
        "    while True:\n",
        "        data = next(generator)\n",
        "        image = data[0]\n",
        "        labels = np.split(data[1], 3, axis=1)\n",
        "        yield image, labels"
      ],
      "execution_count": 0,
      "outputs": []
    },
    {
      "cell_type": "markdown",
      "metadata": {
        "colab_type": "text",
        "id": "pTrq0VNqzy_R"
      },
      "source": [
        "А теперь перейдем к обучению:"
      ]
    },
    {
      "cell_type": "code",
      "metadata": {
        "colab_type": "code",
        "id": "G9K2tEyAORj9",
        "colab": {}
      },
      "source": [
        "path = Path(\"/content/drive/My Drive/model_multitask\")\n",
        "path.mkdir(exist_ok=True, parents=True) \n",
        "cpt_filename = \"checkpoint_best.h5\"  \n",
        "cpt_multitask =str(path / cpt_filename)\n",
        "\n",
        "checkpoint_3 = tf.keras.callbacks.ModelCheckpoint(cpt_multitask, \n",
        "                                                  monitor='val_age_mean_absolute_error', \n",
        "                                                  verbose=1, \n",
        "                                                  save_best_only=True, \n",
        "                                                  mode='min')"
      ],
      "execution_count": 0,
      "outputs": []
    },
    {
      "cell_type": "code",
      "metadata": {
        "colab_type": "code",
        "id": "iRLKnVNvjjcy",
        "colab": {}
      },
      "source": [
        "optimizer = tf.keras.optimizers.Adam(learning_rate=0.0001) \n",
        "# можно выбрать и другую скорость обучения \n",
        "### \n",
        "# !теперь loss -- это словарь, в котором к каждому выходу мы \"прицепляем\" свой лосс!\n",
        "# аналогично с metrics\n",
        "model.compile(optimizer=optimizer, \n",
        "              loss={'gender': 'binary_crossentropy', \n",
        "                    'race': 'sparse_categorical_crossentropy', \n",
        "                    'age': 'mse'},\n",
        "              metrics={'gender': 'accuracy', \n",
        "                       'race': 'accuracy', \n",
        "                       'age': 'mae'})\n",
        "\n",
        "model.fit_generator(split_outputs(train_generator), epochs=90, \n",
        "                    validation_data=split_outputs(val_generator), \n",
        "                    callbacks=[PlotLossesCallback(), checkpoint_3], \n",
        "                    steps_per_epoch=50, \n",
        "                    validation_steps= len(df_val) // BATCH_SIZE)"
      ],
      "execution_count": 0,
      "outputs": []
    },
    {
      "cell_type": "code",
      "metadata": {
        "colab_type": "code",
        "id": "cXMy-OVhl95z",
        "colab": {}
      },
      "source": [
        "model_multitask = load_model(cpt_multitask)\n",
        "\n",
        "results = model.evaluate(split_outputs(val_generator), steps=len(df_val)//BATCH_SIZE)\n",
        "assert results[-3] > 0.90, f\"Gender accuracy is too low. Please try to improve it {results[-3]}\"\n",
        "assert results[-2] > 0.80, f\"Race accuracy is too low. Please try to improve it. {results[-2]}\"\n",
        "assert results[-1] < 0.09, f\"Age MAE it too high: {results[-1]}\"\n",
        "print(\"Well done!\")"
      ],
      "execution_count": 0,
      "outputs": []
    },
    {
      "cell_type": "code",
      "metadata": {
        "colab_type": "code",
        "id": "hci8XAIfUYMs",
        "colab": {}
      },
      "source": [
        "sample_validation_images, sample_validation_labels = next(split_outputs(val_generator))\n",
        "predicted = model_multitask.predict(sample_validation_images)\n",
        "show_faces(sample_validation_images, \n",
        "           real_gender=sample_validation_labels[0], predicted_gender=predicted[0],\n",
        "           real_race=sample_validation_labels[1], predicted_race=predicted[1],\n",
        "           real_age=sample_validation_labels[2].flatten(), predicted_age=predicted[2].flatten(),\n",
        "           )"
      ],
      "execution_count": 0,
      "outputs": []
    },
    {
      "cell_type": "markdown",
      "metadata": {
        "colab_type": "text",
        "id": "supfSaoNsiyu"
      },
      "source": [
        "Загрузим любое лицо и получим предсказание. Не забудем его обрезать соответствующим образом."
      ]
    },
    {
      "cell_type": "code",
      "metadata": {
        "colab_type": "code",
        "id": "DQnxU9nh_Jbm",
        "colab": {}
      },
      "source": [
        "url = 'google_disk'\n",
        "output = 'imagge.jpg'\n",
        "gdown.download(url, output, quiet=False)\n",
        "\n",
        "img = image.load_img(\"imagge.jpg\", target_size=(224, 224))\n",
        "x = image.img_to_array(img)\n",
        "x = np.expand_dims(x, axis=0)\n",
        "x = utils.preprocess_input(x, version=2) \n",
        "predicted_labels = model.predict(x)\n",
        "plt.imshow(img)\n",
        "gender, race, age = int(predicted_labels[0][0] > 0.5), np.argmax(predicted_labels[1][0]), predicted_labels[2][0]\n",
        "title_obj = f\"Pred: {gender_mapping[gender]}, {race_mapping[race]}, {int(age[0]*max_age)}.\"\n",
        "_ = plt.title(title_obj)"
      ],
      "execution_count": 0,
      "outputs": []
    }
  ]
}